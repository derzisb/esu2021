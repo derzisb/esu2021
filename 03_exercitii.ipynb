{
 "cells": [
  {
   "cell_type": "markdown",
   "metadata": {
    "collapsed": true,
    "pycharm": {
     "name": "#%% md\n"
    }
   },
   "source": [
    "<a href=\"https://colab.research.google.com/github/derzisb/esu2021/blob/main/03_exercitii.ipynb\"\n",
    " target=\"_parent\" style=\"float: right;\"><img src=\"https://colab.research.google.com/assets/colab-badge.svg\" alt=\"Open In Colab\"/></a>"
   ]
  },
  {
   "cell_type": "markdown",
   "source": [
    "# ESU 2021\n",
    "**Exercitii**\n",
    "\n",
    "*autor notebook:* [Bogdan Dragulescu](https://ti.etcti.upt.ro/bogdan-dragulescu/)<br/>"
   ],
   "metadata": {
    "collapsed": false
   }
  },
  {
   "cell_type": "markdown",
   "source": [
    "Având două liste:<br>\n",
    "a = [17, 14, 12, 18, 26, 28, 3, 1, 4, 16, 2, 27, 5, 13, 8, 29, 11, 25, 20, 22]<br>\n",
    "b = [5, 25, 6, 2, 7, 29, 14, 27, 12, 3, 8, 19, 11, 24, 28, 20, 16, 4, 13, 18]<br><br>\n",
    "\n",
    "1. Creați o listă nouă care conține doar elementele comune.<br>\n",
    "Opțional. Rezolvați problema într-o singură linie.<br>\n",
    "*Rez:* [2, 3, 4, 5, 8, 11, 12, 13, 14, 16, 18, 20, 25, 27, 28, 29]"
   ],
   "metadata": {
    "collapsed": false,
    "pycharm": {
     "name": "#%% md\n"
    }
   }
  },
  {
   "cell_type": "code",
   "execution_count": null,
   "outputs": [],
   "source": [],
   "metadata": {
    "collapsed": false,
    "pycharm": {
     "name": "#%%\n"
    }
   }
  },
  {
   "cell_type": "markdown",
   "source": [
    "2. Copiați primele 5 elemente din ambele liste într-o listă comună și sortațile.<br>\n",
    "*Rez:* c = [2, 5, 6, 7, 12, 14, 17, 18, 25, 26]<br>"
   ],
   "metadata": {
    "collapsed": false,
    "pycharm": {
     "name": "#%% md\n"
    }
   }
  },
  {
   "cell_type": "code",
   "execution_count": null,
   "outputs": [],
   "source": [],
   "metadata": {
    "collapsed": false,
    "pycharm": {
     "name": "#%%\n"
    }
   }
  },
  {
   "cell_type": "markdown",
   "source": [
    "3. Asignați unei noi liste: primul element, ultimul element, al 8-lea element, penultimul element și\n",
    "afișați noua listă. Țineți cont ca lungimea listei poate fi variabilă.<br>\n",
    "*Rez:* [2, 26, 18, 25]"
   ],
   "metadata": {
    "collapsed": false
   }
  },
  {
   "cell_type": "code",
   "execution_count": null,
   "outputs": [],
   "source": [],
   "metadata": {
    "collapsed": false,
    "pycharm": {
     "name": "#%%\n"
    }
   }
  },
  {
   "cell_type": "markdown",
   "source": [
    "4. Creați o listă ce conține: valoarea maximă, valoarea minimă și media aritmetică a\n",
    "elementelor.<br>\n",
    "*Rez:* vals = [26, 2, 13.2]<br>"
   ],
   "metadata": {
    "collapsed": false
   }
  },
  {
   "cell_type": "code",
   "execution_count": null,
   "outputs": [],
   "source": [],
   "metadata": {
    "collapsed": false,
    "pycharm": {
     "name": "#%%\n"
    }
   }
  },
  {
   "cell_type": "markdown",
   "source": [
    "5. Folosiți lista c pentru a grupa numerele câte 2 într-o listă de liste.<br>\n",
    "c = [2, 5, 6, 7, 12, 14, 17, 18, 25, 26]<br>\n",
    "*Rez:* [[2, 5], [6, 7], [12, 14], [17, 18], [25, 26]]<br>"
   ],
   "metadata": {
    "collapsed": false
   }
  },
  {
   "cell_type": "code",
   "execution_count": null,
   "outputs": [],
   "source": [],
   "metadata": {
    "collapsed": false,
    "pycharm": {
     "name": "#%%\n"
    }
   }
  },
  {
   "cell_type": "markdown",
   "source": [
    "Pentru următoarele exerciții vom folosi dicționarul definit mai jos:<br>\n",
    "hogwarts_houses = {\"Gryffindor\" : 200,\n",
    "                    \"Slytherin\" : 150,\n",
    "                    \"Ravenclaw\" : 120,\n",
    "                    \"Hufflepuff\" : 100}<br>\n",
    "\n",
    "6. Stocați cheile, respectiv valorile, in doua liste separate.<br>\n",
    "*Rez:*<br>\n",
    "keys = ['Gryffindor', 'Slytherin', 'Ravenclaw', 'Hufflepuff']<br>\n",
    "values = [200, 150, 120, 100]<br>"
   ],
   "metadata": {
    "collapsed": false,
    "pycharm": {
     "name": "#%% md\n"
    }
   }
  },
  {
   "cell_type": "code",
   "execution_count": null,
   "outputs": [],
   "source": [],
   "metadata": {
    "collapsed": false,
    "pycharm": {
     "name": "#%%\n"
    }
   }
  },
  {
   "cell_type": "markdown",
   "source": [
    "7. Afișate doar primele 2 case din dicționar.<br>\n",
    "*Rez:*<br>\n",
    "('Gryffindor', 200)<br>\n",
    "('Slytherin', 150)<br>"
   ],
   "metadata": {
    "collapsed": false
   }
  },
  {
   "cell_type": "code",
   "execution_count": null,
   "outputs": [],
   "source": [],
   "metadata": {
    "collapsed": false,
    "pycharm": {
     "name": "#%%\n"
    }
   }
  },
  {
   "cell_type": "markdown",
   "source": [
    "8. Creați un dicționar nou ce contine casele cu un scor mai mare de 150.<br>\n",
    "*Rez:* {'Gryffindor': 200}<br>"
   ],
   "metadata": {
    "collapsed": false
   }
  },
  {
   "cell_type": "code",
   "execution_count": null,
   "outputs": [],
   "source": [],
   "metadata": {
    "collapsed": false,
    "pycharm": {
     "name": "#%%\n"
    }
   }
  },
  {
   "cell_type": "markdown",
   "source": [
    "9. Afișați casa cu cele mai multe puncte, respectiv casa cu cele mai puține puncte<br>\n",
    "*Rez:*<br>\n",
    "max: Gryffindor<br>\n",
    "min: Hufflepuff<br>"
   ],
   "metadata": {
    "collapsed": false
   }
  },
  {
   "cell_type": "code",
   "execution_count": null,
   "outputs": [],
   "source": [],
   "metadata": {
    "collapsed": false,
    "pycharm": {
     "name": "#%%\n"
    }
   }
  },
  {
   "cell_type": "markdown",
   "source": [
    "10. Adaugati 100p casei Hufflepuff si sortati dictionarul dupa valori.<br>\n",
    "*Rez:* [('Gryffindor', 200), ('Hufflepuff', 200), ('Slytherin', 150), ('Ravenclaw', 120)]<br>"
   ],
   "metadata": {
    "collapsed": false
   }
  },
  {
   "cell_type": "code",
   "execution_count": null,
   "outputs": [],
   "source": [],
   "metadata": {
    "collapsed": false,
    "pycharm": {
     "name": "#%%\n"
    }
   }
  }
 ],
 "metadata": {
  "kernelspec": {
   "display_name": "Python 3",
   "language": "python",
   "name": "python3"
  },
  "language_info": {
   "codemirror_mode": {
    "name": "ipython",
    "version": 2
   },
   "file_extension": ".py",
   "mimetype": "text/x-python",
   "name": "python",
   "nbconvert_exporter": "python",
   "pygments_lexer": "ipython2",
   "version": "2.7.6"
  }
 },
 "nbformat": 4,
 "nbformat_minor": 0
}