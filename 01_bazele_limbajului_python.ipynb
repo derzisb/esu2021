{
 "cells": [
  {
   "cell_type": "markdown",
   "metadata": {
    "collapsed": true,
    "pycharm": {
     "name": "#%% md\n"
    }
   },
   "source": [
    "<a href=\"https://colab.research.google.com/github/derzisb/esu2021/blob/main/01_bazele_limbajului_python.ipynb\"\n",
    " target=\"_parent\" style=\"float: right;\"><img src=\"https://colab.research.google.com/assets/colab-badge.svg\" alt=\"Open In Colab\"/></a>"
   ]
  },
  {
   "cell_type": "markdown",
   "metadata": {},
   "source": [
    "# ESU 2021\n",
    "**Bazele limbajului Python**\n",
    "\n",
    "*autor notebook:* [Bogdan Dragulescu](https://ti.etcti.upt.ro/bogdan-dragulescu/)<br/>"
   ]
  },
  {
   "cell_type": "markdown",
   "metadata": {},
   "source": [
    "## Obiective\n",
    "\n",
    "* Salut lume\n",
    "* Tipuri de date\n",
    "* Cuvinte cheie\n",
    "* Operatori\n",
    "* Indentarea\n",
    "* Structuri de control\n",
    "* Functii"
   ]
  },
  {
   "cell_type": "markdown",
   "metadata": {},
   "source": [
    "## Clasicul 'Salut lume'\n",
    "\n",
    "Pentru afisarea unui mesaj se utilizeaza functia print()."
   ]
  },
  {
   "cell_type": "code",
   "execution_count": null,
   "metadata": {
    "pycharm": {
     "name": "#%%\n"
    }
   },
   "outputs": [],
   "source": [
    "print('Salut lume!')"
   ]
  },
  {
   "cell_type": "markdown",
   "metadata": {},
   "source": [
    "## Tipuri de date\n",
    "\n",
    "Un tip de date defineste domeniul de valori posibile si operatiile permise asupra valorilor din domeniu. Limbajul\n",
    "Python pune la dispozitie urmatoarele tipuri de date: numerice (int, float), logice (bool), secvente\n",
    "(siruri, liste, tupluri), tabele asociative (dictionary), multimi (set), clase, instante si exceptii.\n",
    "\n",
    "Limbajul Python este un limbaj orientat pe obiecte. Toate elementele de la nivelul unei surse, inclusiv functiile si\n",
    "valorile primitive predefinite, sunt reprezentate ca si obiecte sau relatii intre obiecte. Toate obiectele detin o\n",
    "identitate, un tip de date si o valoare."
   ]
  },
  {
   "cell_type": "code",
   "execution_count": null,
   "metadata": {
    "pycharm": {
     "name": "#%%\n"
    }
   },
   "outputs": [],
   "source": [
    "a = 13\n",
    "print(a, \" are tipul \", type(a))\t# type() returneaza tipul unui obiect\n",
    "print(id(a))\t# id() returneaza identitatea corespunzatoare unui obiect\n",
    "print(a)"
   ]
  },
  {
   "cell_type": "markdown",
   "metadata": {},
   "source": [
    "Identitatea unui obiect nu se modifica niciodata. Reprezentarea numerica a identitatii unui obiect este disponibila\n",
    "prin intermediul functiei id(). Identitatea a doua obiecte poate fi comparata folosind operatorul is. Tipul unui obiect\n",
    "determina operatiile posibile, precum si valorile pe care le poate lua obiectul.\n",
    "\n",
    "Limbajul Python este un limbaj cu tipizare dinamica (dynamically typed), adica tipul de date pentru o valoare este\n",
    "stabilit in timpul executiei, nu in avans. Din acest motiv, nu este necesara specificarea tipului de date pentru o\n",
    "variabila la declarare."
   ]
  },
  {
   "cell_type": "code",
   "execution_count": null,
   "metadata": {
    "pycharm": {
     "name": "#%%\n"
    }
   },
   "outputs": [],
   "source": [
    "a = 13\n",
    "b = 3.14\n",
    "c = 'Casandra'"
   ]
  },
  {
   "cell_type": "markdown",
   "metadata": {},
   "source": [
    "De asemenea, limbajul Python prezinta o tipizarea puternica (strongly typed), adica nu sunt permise operatii cu obiecte\n",
    "avand tipuri de date diferite (cu exceptia utilizarii unor conversii explicite)."
   ]
  },
  {
   "cell_type": "code",
   "execution_count": null,
   "metadata": {
    "pycharm": {
     "name": "#%%\n"
    }
   },
   "outputs": [],
   "source": [
    "a + b"
   ]
  },
  {
   "cell_type": "code",
   "execution_count": null,
   "metadata": {
    "pycharm": {
     "name": "#%%\n"
    }
   },
   "outputs": [],
   "source": [
    "a + c"
   ]
  },
  {
   "cell_type": "markdown",
   "metadata": {},
   "source": [
    "## Variabile\n",
    "\n",
    "Variabilele reprezinta nume pentru obiecte, in diferite domenii de utilizare ale acestora. Variabilele pastreaza\n",
    "referinte catre obiecte. Daca este utilizata o variabila, tipul acesteia este dat de tipul obiectului cu care este\n",
    "asociata."
   ]
  },
  {
   "cell_type": "code",
   "execution_count": null,
   "metadata": {
    "pycharm": {
     "name": "#%%\n"
    }
   },
   "outputs": [],
   "source": [
    "a = 3\n",
    "type(a)\n",
    "\n",
    "a = 3.14\n",
    "type(a)\n",
    "\n",
    "a = 'Zaya'\n",
    "type(a)"
   ]
  },
  {
   "cell_type": "markdown",
   "metadata": {},
   "source": [
    "Este gresita folosirea intr-o expresie a unei variabile care nu a fost asociata cu un obiect. Alocarea si dezalocarea\n",
    "memoriei se face automat in limbajul Python, fiind implementata prin intermediul unui mecanism de tip garbage\n",
    "collection."
   ]
  },
  {
   "cell_type": "code",
   "execution_count": null,
   "metadata": {
    "pycharm": {
     "name": "#%%\n"
    }
   },
   "outputs": [],
   "source": [
    "aa + 5"
   ]
  },
  {
   "cell_type": "markdown",
   "metadata": {},
   "source": [
    "Datorita faptului ca partea dreapta a unei expresii este evaluata inainte de a face atribuirea, valorile a doua\n",
    "variabile pot fi foarte usor interschimbate."
   ]
  },
  {
   "cell_type": "code",
   "execution_count": null,
   "metadata": {
    "pycharm": {
     "name": "#%%\n"
    }
   },
   "outputs": [],
   "source": [
    "a = 13\n",
    "b = 20\n",
    "a, b = b, a\n",
    "print(a, b)"
   ]
  },
  {
   "cell_type": "markdown",
   "metadata": {},
   "source": [
    "Identificatorii (denumirile) sunt termeni care denota entitati dintr-un program. Exemple de identificatori sunt numele\n",
    "de functii, de variabile, de constante sau de clase. Pentru identificatori, in limbajul Python, sunt valabile\n",
    "urmatoarele reguli:\n",
    "* identificatorii pot avea orice lungime;\n",
    "* identificatorii pot contine litere, numere sau caracterul _ (underscore);\n",
    "* identificatorii nu pot incepe cu o cifra;\n",
    "* identificatorii sunt case sensitive (se face distinctie intre literele mari si literele mici)."
   ]
  },
  {
   "cell_type": "markdown",
   "metadata": {},
   "source": [
    "## Cuvinte cheie\n",
    "Cuvintele cheie sunt termeni rezervati care nu pot fi utilizati ca si identificatori; sunt utilizate pentru a defini\n",
    "sintaxa si structura limbajului Python. Cu execptia lui True, False si None, cuvintele cheie trebuie precizate cu\n",
    "litere mici (sunt case-sensitive).\n",
    "\n",
    "Lista cuvintelor cheie este una dinamica, putand sa primeasca/piarda membri pe parcursul evolutiei limbajului.\n",
    "O prima modalitate de obtinere a termenilor rezervati presupune utilizarea modulului keyword."
   ]
  },
  {
   "cell_type": "code",
   "execution_count": null,
   "metadata": {
    "pycharm": {
     "name": "#%%\n"
    }
   },
   "outputs": [],
   "source": [
    "import keyword\n",
    "print(keyword.kwlist)"
   ]
  },
  {
   "cell_type": "markdown",
   "metadata": {},
   "source": [
    "## Operatori\n",
    "\n",
    "Operatorii sunt elemente ale limbajelor de programare care acţioneaza asupra unuia sau mai multor operanzi pentru a\n",
    "produce o valoare. La nivelul limbjului Python pot fi intalnite urmatoarele categorii de operatori:\n",
    "* operatori aritmetici: +, -, *, /, %, **, //;\n",
    "* operatori de comparare: ==, !=, <>, <, >, <=, >=;\n",
    "* operatori de atribuire: =, +=, -=, *=, /=, %=, **=, //=;\n",
    "* operatori logici: and, or, not ;\n",
    "* operatori pe biti: &, |, ^, ~, <<, >>;\n",
    "* operatori pentru verificarea apartenentei: in, not in;\n",
    "* operatori pentru verificare a identitatii: is, is not."
   ]
  },
  {
   "cell_type": "code",
   "execution_count": null,
   "metadata": {
    "pycharm": {
     "name": "#%%\n"
    }
   },
   "outputs": [],
   "source": [
    "9 // 2.0"
   ]
  },
  {
   "cell_type": "code",
   "execution_count": null,
   "metadata": {
    "pycharm": {
     "name": "#%%\n"
    }
   },
   "outputs": [],
   "source": [
    "9.0 / 2.0"
   ]
  },
  {
   "cell_type": "markdown",
   "metadata": {},
   "source": [
    "Operatorii de verificare a apartenentei verifica daca un element apartine sau nu unei secvente."
   ]
  },
  {
   "cell_type": "code",
   "execution_count": null,
   "metadata": {
    "pycharm": {
     "name": "#%%\n"
    }
   },
   "outputs": [],
   "source": [
    "'ab' in 'abecedar'"
   ]
  },
  {
   "cell_type": "code",
   "execution_count": null,
   "metadata": {
    "pycharm": {
     "name": "#%%\n"
    }
   },
   "outputs": [],
   "source": [
    "1 not in [1, 2, 3]"
   ]
  },
  {
   "cell_type": "code",
   "execution_count": null,
   "metadata": {
    "pycharm": {
     "name": "#%%\n"
    }
   },
   "outputs": [],
   "source": [
    "a = \"Hello Python!\"\n",
    "'hello' not in a\n",
    "'Java' in a"
   ]
  },
  {
   "cell_type": "code",
   "execution_count": null,
   "metadata": {
    "pycharm": {
     "name": "#%%\n"
    }
   },
   "outputs": [],
   "source": [
    "b = (23, 14, 6, 15)\n",
    "23 in b"
   ]
  },
  {
   "cell_type": "code",
   "execution_count": null,
   "metadata": {
    "pycharm": {
     "name": "#%%\n"
    }
   },
   "outputs": [],
   "source": [
    "c = ['X', 'Y', 'Z']\n",
    "'T' not in c"
   ]
  },
  {
   "cell_type": "markdown",
   "metadata": {},
   "source": [
    "Operatori pentru verificarea identitatii verifica daca doua valori refera acelasi obiect (locatie de memorie)."
   ]
  },
  {
   "cell_type": "code",
   "execution_count": null,
   "metadata": {
    "pycharm": {
     "name": "#%%\n"
    }
   },
   "outputs": [],
   "source": [
    "x = 'Hello'\n",
    "y = 'hello'\n",
    "x is y"
   ]
  },
  {
   "cell_type": "code",
   "execution_count": null,
   "metadata": {
    "pycharm": {
     "name": "#%%\n"
    }
   },
   "outputs": [],
   "source": [
    "a = 3\n",
    "b = 3\n",
    "a is b"
   ]
  },
  {
   "cell_type": "code",
   "execution_count": null,
   "metadata": {
    "pycharm": {
     "name": "#%%\n"
    }
   },
   "outputs": [],
   "source": [
    "print(f'Id-ul lui a este: {id(a)}')\n",
    "print(f'Id-ul lui b este: {id(b)}')"
   ]
  },
  {
   "cell_type": "markdown",
   "metadata": {},
   "source": [
    "## Indentarea\n",
    "\n",
    "Indentarea reprezinta plasarea/alinierea liniilor unui program, astfel incat sa fie cat mai\n",
    "usor de parcurs/citit. In limbajul Python, nivelul de indentarea are semnificatie sintactica.\n",
    "Instructiunile dintr-un bloc de cod prezinta acelasi nivel de indentare, spre deosebire la\n",
    "alte limbaje de programare in care blocurile sunt delimitate prin intermediul constructiilor\n",
    "begin … end sau prin intermediul acoladelor { … }."
   ]
  },
  {
   "cell_type": "code",
   "execution_count": null,
   "metadata": {
    "pycharm": {
     "name": "#%%\n"
    }
   },
   "outputs": [],
   "source": [
    "for i in range(5, 0, -1):\n",
    "    print(i)"
   ]
  },
  {
   "cell_type": "markdown",
   "metadata": {},
   "source": [
    "## Structurile de control\n",
    "\n",
    "Structurile de control sunt instructiuni utilizate pentru a ajusta modul in care un program se desfasoara.\n",
    "La nivelul limbajelor de programare sunt prezente trei astfel de structuri:\n",
    "* **structuri conditionale (decizionale)**: permit executia conditionata a unei instructiuni sau a unui bloc de\n",
    "instructiuni;\n",
    "* **structuri iterative (repetitive)**: au rolul de a executa repetitiv o instructiune sau un set de instructiuni,\n",
    "pana la indeplinirea unei conditii de iesire;\n",
    "* **structuri de salt**: utilizate pentru a transfera controlul executiei unei alte zone a programului."
   ]
  },
  {
   "cell_type": "markdown",
   "metadata": {},
   "source": [
    "## Instructiunea if\n",
    "\n",
    "Structurile conditionale ofera posibilitatea executarii conditionate a uneia sau mai multor instructiuni. In limbajul\n",
    "Python, din aceasta categorie face parte o singura instructiune, if.\n",
    "\n",
    "Instructiunea if permite executia unei instructiuni sau a unui bloc de instructiuni in functie de valoarea de adevar\n",
    "a unei conditii. La nivelul limbajului Python, sintaxa acestei instructiuni este urmatoarea:\n",
    "\n",
    "```\n",
    "if conditie1:\n",
    "    instructiune1\n",
    "else:\n",
    "    instructiune2\n",
    "```\n",
    "\n",
    "In acest caz instructiune poate reprezenta o singura instructiune sau un bloc de instructiuni. Daca conditia este\n",
    "adevarata (se evalueaza la True), atunci se executa instructiune1; in caz contrar, se executa instructiune2. Ramura\n",
    "else nu este obligatorie intr-o astfel de instructiune conditionala.\n",
    "\n",
    "Instructiunea if poate fi intalnita si in constructii imbricate de genul if … elif.\n",
    "\n",
    "```\n",
    "if conditie1:\n",
    "   instructiune1\n",
    "elif conditie2:\n",
    "   instructiune2\n",
    "else:\n",
    "   instructiune3\n",
    "```"
   ]
  },
  {
   "cell_type": "code",
   "execution_count": null,
   "metadata": {
    "pycharm": {
     "name": "#%%\n"
    }
   },
   "outputs": [],
   "source": [
    "num = 3.14\n",
    "if num > 0:\n",
    "    print('numar pozitiv')\n",
    "elif num == 0:\n",
    "    print('zero')\n",
    "else:\n",
    "    print('numar negativ')"
   ]
  },
  {
   "cell_type": "markdown",
   "metadata": {},
   "source": [
    "In limbajul Python, conditiile pot fi definite si prin intermediul unei astfel de linii:"
   ]
  },
  {
   "cell_type": "code",
   "execution_count": null,
   "metadata": {
    "pycharm": {
     "name": "#%%\n"
    }
   },
   "outputs": [],
   "source": [
    "a, b = 15, 3\n",
    "m = a if a < b else b\n",
    "print(m)"
   ]
  },
  {
   "cell_type": "markdown",
   "metadata": {},
   "source": [
    "## Instructiunea while\n",
    "\n",
    "Instructiunile iterative au rolul de a executa repetitiv o instructiune sau un set de instructiuni, pana la\n",
    "indeplinirea unei conditii de iesire. La nivelul limbajului Python sunt disponibile doua intructiuni iterative while\n",
    "si for.\n",
    "\n",
    "Instructiunea iterativa while se utilizeaza pentru a repeta o instructiune sau un bloc de instructiuni atata timp cat\n",
    "conditia este adevarata. Forma generala a instructiunii while este următoarea:\n",
    "\n",
    "```\n",
    "while conditie:\n",
    "    instructiune1\n",
    "else:\n",
    "    instructiune2\n",
    "```\n",
    "\n",
    "In momentul in care conditia devine falsa, controlul executiei este acordat blocului corespunzator ramurii else, daca\n",
    "aceasta este prezenta."
   ]
  },
  {
   "cell_type": "code",
   "execution_count": null,
   "metadata": {
    "pycharm": {
     "name": "#%%\n"
    }
   },
   "outputs": [],
   "source": [
    "i = 0\n",
    "while i < 10:\n",
    "    print(i, end = \" \")\n",
    "    i = i + 1"
   ]
  },
  {
   "cell_type": "markdown",
   "metadata": {},
   "source": [
    "O instructiune break rulata la nivelul blocului while acorda controlul executiei urmatoarei linii de program de dupa\n",
    "bucla while (fara executia instructiunilor de la nivelul ramurii else)."
   ]
  },
  {
   "cell_type": "code",
   "execution_count": null,
   "metadata": {
    "pycharm": {
     "name": "#%%\n"
    }
   },
   "outputs": [],
   "source": [
    "i = 0\n",
    "while i < 3:\n",
    "    print(\"loop\")\n",
    "    i += 1\n",
    "else:\n",
    "    print(\"else\")"
   ]
  },
  {
   "cell_type": "markdown",
   "metadata": {},
   "source": [
    "## Instructiunea for\n",
    "\n",
    "Instructiunea iterativa for se utilizeaza pentru a parcurge elementele unei secvente (sir, lista sau tuplu).\n",
    "Forma generala a instructiunii for este următoarea:\n",
    "\n",
    "```\n",
    "for valoare in secventa:\n",
    "    instructiune1\n",
    "else:\n",
    "    instructiune2\n",
    "```\n",
    "\n",
    "Si instructiunile de tip for pot detine o ramura else, optionala, ramura ce este executata in cazul in care toate\n",
    "elementele de la nivelul secventei au fost parcurse."
   ]
  },
  {
   "cell_type": "code",
   "execution_count": null,
   "metadata": {
    "pycharm": {
     "name": "#%%\n"
    }
   },
   "outputs": [],
   "source": [
    "orase = ['Timisoara', 'Londra', 'Roma']\n",
    "for oras in orase:\n",
    "    print(oras)"
   ]
  },
  {
   "cell_type": "code",
   "execution_count": null,
   "metadata": {
    "pycharm": {
     "name": "#%%\n"
    }
   },
   "outputs": [],
   "source": [
    "nums = [34, 23, 11, 6, 31]\n",
    "suma = 0\n",
    "for val in nums:\n",
    "    suma += val\n",
    "\n",
    "print('suma valorilor din este ', suma)"
   ]
  },
  {
   "cell_type": "markdown",
   "metadata": {},
   "source": [
    "Generarea unei secvente numerice se poate realiza prin intermediul functiei range(). Aceasta poate fi utilizata cu un\n",
    "argument (valoarea finala de la nivelul secventei), doua argumente (valorile de inceput si de final de la nivelul\n",
    "secventei) sau chiar cu trei argumnete (cel de-al treilea argument are semnificatia de pas).\n",
    "\n",
    "```\n",
    "range(start, stop, pas)\n",
    "```"
   ]
  },
  {
   "cell_type": "code",
   "execution_count": null,
   "metadata": {
    "pycharm": {
     "name": "#%%\n"
    }
   },
   "outputs": [],
   "source": [
    "list(range(5))"
   ]
  },
  {
   "cell_type": "code",
   "execution_count": null,
   "metadata": {
    "pycharm": {
     "name": "#%%\n"
    }
   },
   "outputs": [],
   "source": [
    "list(range(5, 10))"
   ]
  },
  {
   "cell_type": "code",
   "execution_count": null,
   "metadata": {
    "pycharm": {
     "name": "#%%\n"
    }
   },
   "outputs": [],
   "source": [
    "list(range(5, 10, 2))"
   ]
  },
  {
   "cell_type": "markdown",
   "metadata": {},
   "source": [
    "Valoarea de final (stop) nu este prezenta la nivelul secventei generate."
   ]
  },
  {
   "cell_type": "code",
   "execution_count": null,
   "metadata": {
    "pycharm": {
     "name": "#%%\n"
    }
   },
   "outputs": [],
   "source": [
    "for i in range(0, 9):\n",
    "    print(i, end = \" \")"
   ]
  },
  {
   "cell_type": "markdown",
   "metadata": {},
   "source": [
    "## Functii\n",
    "\n",
    "Functiile sunt secvente de cod care sunt definite pentru a fi apoi apelate in diverse sectiuni ale programelor.\n",
    "Acestea asigura o structurare mult mai buna a aplicatiilor. In general, o functie primeste un set de argumente,\n",
    "efectueaza un numar de operatii si returneaza o valoare.\n",
    "\n",
    "In limbajul Python, functiile trebuie definite inainte de utilizare/apelare, in caz contrar fiind generate erori de\n",
    "tipul NameError."
   ]
  },
  {
   "cell_type": "code",
   "execution_count": null,
   "metadata": {
    "pycharm": {
     "name": "#%%\n"
    }
   },
   "outputs": [],
   "source": [
    "hello()"
   ]
  },
  {
   "cell_type": "markdown",
   "metadata": {},
   "source": [
    "Pot fi utilizate atat functii predefinite, disponibile la nivelul limbajului Python (print(), type(), id()), cat si\n",
    "functii definite de utilizator.\n",
    "\n",
    "```\n",
    "def functie(parametri):\n",
    "     \"\"\"docstring\"\"\"\n",
    "     instructiuni\n",
    "```\n",
    "\n",
    "Prima instructiune din corpul unei functii poate fi un sir de caractere care reprezinta documentatia functiei. In\n",
    "Python, toate functiile returneaza o valoare, chiar daca nu fac acest lucru in mod explicit (None). Returnarea unei\n",
    "valori intr-o maniera explicita presupune utilizatarea instructiunii de salt return."
   ]
  },
  {
   "cell_type": "code",
   "execution_count": null,
   "metadata": {
    "pycharm": {
     "name": "#%%\n"
    }
   },
   "outputs": [],
   "source": [
    "def par(numar):\n",
    "    \"\"\"Functia verifica daca numarul este par.\"\"\"\n",
    "    return numar % 2 == 0\n",
    "\n",
    "for n in [23, 5, 44, 87]:\n",
    "    if par(n):\n",
    "        print('numarul %d este par' % n)"
   ]
  },
  {
   "cell_type": "code",
   "execution_count": null,
   "metadata": {
    "pycharm": {
     "name": "#%%\n"
    }
   },
   "outputs": [],
   "source": [
    "par"
   ]
  },
  {
   "cell_type": "code",
   "execution_count": null,
   "metadata": {
    "pycharm": {
     "name": "#%%\n"
    }
   },
   "outputs": [],
   "source": [
    "par.__doc__\n"
   ]
  }
 ],
 "metadata": {
  "kernelspec": {
   "display_name": "Python 3 (ipykernel)",
   "language": "python",
   "name": "python3"
  },
  "language_info": {
   "codemirror_mode": {
    "name": "ipython",
    "version": 3
   },
   "file_extension": ".py",
   "mimetype": "text/x-python",
   "name": "python",
   "nbconvert_exporter": "python",
   "pygments_lexer": "ipython3",
   "version": "3.8.10"
  }
 },
 "nbformat": 4,
 "nbformat_minor": 1
}