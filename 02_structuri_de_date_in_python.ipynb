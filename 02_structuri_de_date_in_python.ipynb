{
 "cells": [
  {
   "cell_type": "markdown",
   "metadata": {},
   "source": [
    "<a href=\"https://colab.research.google.com/github/derzisb/esu2021/blob/main/02_structuri_de_date_in_python.ipynb\"\n",
    " target=\"_parent\" style=\"float: right;\"><img src=\"https://colab.research.google.com/assets/colab-badge.svg\" alt=\"Open In Colab\"/></a>"
   ]
  },
  {
   "cell_type": "markdown",
   "metadata": {},
   "source": [
    "# ESU 2021\n",
    "**Structuri de date in Python**\n",
    "\n",
    "*autor notebook:* [Bogdan Dragulescu](https://ti.etcti.upt.ro/bogdan-dragulescu/)<br/>\n"
   ]
  },
  {
   "cell_type": "markdown",
   "metadata": {},
   "source": [
    "## Obiective\n",
    "\n",
    "* Liste\n",
    "* Tupuri\n",
    "* Dictionare"
   ]
  },
  {
   "cell_type": "markdown",
   "metadata": {},
   "source": [
    "## 01 - Liste in Python\n",
    "\n",
    "In limbajul Python, listele reprezinta colectii ordonate de elemente. Declararea listelor se realizeaza prin\n",
    "intermediul parantezelor drepte. Elementele unei liste pot fi modificate, motiv pentru care spunem ca listele sunt\n",
    "structuri de date de tip mutabil."
   ]
  },
  {
   "cell_type": "code",
   "execution_count": null,
   "metadata": {
    "pycharm": {
     "name": "#%%\n"
    }
   },
   "outputs": [],
   "source": [
    "orase = ['Timisoara', 'Londra', 'Budapesta', 'New York']\n",
    "orase[1] = 'Sofia'\n",
    "print(orase)\n"
   ]
  },
  {
   "cell_type": "markdown",
   "metadata": {},
   "source": [
    "O lista poate include elemente de tip lista, caz in care vorbim de liste imbricate."
   ]
  },
  {
   "cell_type": "code",
   "execution_count": null,
   "metadata": {
    "pycharm": {
     "name": "#%%\n"
    }
   },
   "outputs": [],
   "source": [
    "orase_ro = ['Timisoara', 'Bucuresti', 'Iasi']\n",
    "orase_uk = ['Londra', 'Glasgow', 'Liverpool']\n",
    "orase = [orase_ro, orase_uk]\n",
    "print(orase)\n",
    "print(orase[1])\n",
    "print(orase[1][2])"
   ]
  },
  {
   "cell_type": "markdown",
   "metadata": {},
   "source": [
    "Cele doua liste cu orase din Romania si Marea Britanie de mai sus pot aparea ca si operanzi intr-o operatie de\n",
    "concatenare. Elementele de la nivelul celor doua liste vor aparea ca si elemente ale listei rezultat dupa finalizarea\n",
    "operatiei de concatenare/alaturare. In cel de-al treilea exemplu elementele corespunzatoare concatenarii sunt salvate\n",
    "in prima lista."
   ]
  },
  {
   "cell_type": "code",
   "execution_count": null,
   "metadata": {
    "pycharm": {
     "name": "#%%\n"
    }
   },
   "outputs": [],
   "source": [
    "orase_ro = ['Timisoara', 'Bucuresti', 'Iasi']\n",
    "orase_uk = ['Londra', 'Glasgow', 'Liverpool']\n",
    "orase = orase_ro + orase_uk\n",
    "print(orase)"
   ]
  },
  {
   "cell_type": "code",
   "execution_count": null,
   "metadata": {
    "pycharm": {
     "name": "#%%\n"
    }
   },
   "outputs": [],
   "source": [
    "orase_ro, orase_uk = ['Timisoara', 'Bucuresti', 'Iasi'], ['Londra', 'Glasgow', 'Liverpool']\n",
    "print(orase_ro + orase_uk)"
   ]
  },
  {
   "cell_type": "code",
   "execution_count": null,
   "metadata": {
    "pycharm": {
     "name": "#%%\n"
    }
   },
   "outputs": [],
   "source": [
    "orase = ['Timisoara', 'Bucuresti', 'Iasi']\n",
    "print(orase*2)\n"
   ]
  },
  {
   "cell_type": "markdown",
   "metadata": {},
   "source": [
    "Putem verifica daca o valoare este sau nu prezenta printre elementele unei liste folosind operatorii in, respectiv\n",
    "not in."
   ]
  },
  {
   "cell_type": "code",
   "execution_count": null,
   "metadata": {
    "pycharm": {
     "name": "#%%\n"
    }
   },
   "outputs": [],
   "source": [
    "'Timisoara' in orase"
   ]
  },
  {
   "cell_type": "code",
   "execution_count": null,
   "metadata": {
    "pycharm": {
     "name": "#%%\n"
    }
   },
   "outputs": [],
   "source": [
    "'Londra' not in orase"
   ]
  },
  {
   "cell_type": "markdown",
   "metadata": {},
   "source": [
    "## Felierea listelor\n",
    "\n",
    "Structurile de date de tip lista fac parte din categoria datelor de tip secventa (liste, siruri, tupluri), motiv pentru\n",
    "care pot fi indexate, concatenate, respectiv feliate.\n",
    "\n",
    "Operatia de feliere are in vedere accesarea unui sir de valori de la nivelul listei prin intermediul operatorului doua\n",
    "puncte :. In acest fel putem genera o noua lista care contine primele 2 elemente de la nivelul listei orase, sau\n",
    "elementele ce au indecsi cu valori in intervalul 1-3. In cel de-al doilea caz operatorul de feliere va preciza\n",
    "valoarea [1:4]."
   ]
  },
  {
   "cell_type": "code",
   "execution_count": null,
   "metadata": {
    "pycharm": {
     "name": "#%%\n"
    }
   },
   "outputs": [],
   "source": [
    "orase = ['Timisoara', 'Londra', 'Budapesta', 'New York']\n",
    "orase[0:2]"
   ]
  },
  {
   "cell_type": "code",
   "execution_count": null,
   "metadata": {
    "pycharm": {
     "name": "#%%\n"
    }
   },
   "outputs": [],
   "source": [
    "orase[1:4]"
   ]
  },
  {
   "cell_type": "markdown",
   "metadata": {},
   "source": [
    "Daca operatorul pentru feliere este precizat fara valori, este returnata o noua lista care contine toate elementele\n",
    "listei initiale."
   ]
  },
  {
   "cell_type": "code",
   "execution_count": null,
   "metadata": {
    "pycharm": {
     "name": "#%%\n"
    }
   },
   "outputs": [],
   "source": [
    "orase = ['Timisoara', 'Londra', 'Budapesta', 'New York']\n",
    "orase[:]"
   ]
  },
  {
   "cell_type": "markdown",
   "metadata": {},
   "source": [
    "Indecsii precizati la nivelul operatiei de feliere pot avea inclusiv valori negative, acestia pastrandu-si semnificatia\n",
    "de la accesarea elementelor unei liste prin intermedul unor indecsi negativi. Si in acest caz, evaluarea elementelor se\n",
    "va realiza incepand cu ultimul element din lista. Urmatorul exemplu returneaza o noua lista care contine ultimele trei\n",
    "elemente din lista orase."
   ]
  },
  {
   "cell_type": "code",
   "execution_count": null,
   "metadata": {
    "pycharm": {
     "name": "#%%\n"
    }
   },
   "outputs": [],
   "source": [
    "orase[-3:]"
   ]
  },
  {
   "cell_type": "markdown",
   "metadata": {},
   "source": [
    "In sintaxa operatiei de feliere poate aparea si un al treilea argument numeric optional, care are semnificatia de pas\n",
    "in evaluarea elementelor. Primul exemplu din secventa de mai jos returneaza o copie a listei in care elementele sunt\n",
    "precizate in ordine inversa."
   ]
  },
  {
   "cell_type": "code",
   "execution_count": null,
   "metadata": {
    "pycharm": {
     "name": "#%%\n"
    }
   },
   "outputs": [],
   "source": [
    "orase[::-1]"
   ]
  },
  {
   "cell_type": "code",
   "execution_count": null,
   "metadata": {
    "pycharm": {
     "name": "#%%\n"
    }
   },
   "outputs": [],
   "source": [
    "orase[::1]"
   ]
  },
  {
   "cell_type": "code",
   "execution_count": null,
   "metadata": {
    "pycharm": {
     "name": "#%%\n"
    }
   },
   "outputs": [],
   "source": [
    "orase[::2]"
   ]
  },
  {
   "cell_type": "code",
   "execution_count": null,
   "metadata": {
    "pycharm": {
     "name": "#%%\n"
    }
   },
   "outputs": [],
   "source": [
    "orase[::3]"
   ]
  },
  {
   "cell_type": "markdown",
   "metadata": {},
   "source": [
    "Inserarea de valori intr-o lista, la o anumita pozitie, se poate face si prin intermediul operatorului de feliere, daca\n",
    "este precizat un interval vid [1:1]. La pozitia 1 sunt inserate cele doua valori de la nivelul listei [‘Roma’, ‘Praga’]."
   ]
  },
  {
   "cell_type": "code",
   "execution_count": null,
   "metadata": {
    "pycharm": {
     "name": "#%%\n"
    }
   },
   "outputs": [],
   "source": [
    "orase = ['Timisoara', 'Londra', 'Budapesta', 'New York']\n",
    "orase[1:1] = ['Roma', 'Praga']\n",
    "orase"
   ]
  },
  {
   "cell_type": "markdown",
   "metadata": {},
   "source": [
    "## Parcurgerea elementelor unei liste\n",
    "\n",
    "Elementele de la nivelul unei structuri de date de tip lista pot fi parcurse prin intermediul unei iteratii for."
   ]
  },
  {
   "cell_type": "code",
   "execution_count": null,
   "metadata": {
    "pycharm": {
     "name": "#%%\n"
    }
   },
   "outputs": [],
   "source": [
    "for oras in ['Timisoara', 'Londra', 'Budapesta', 'New York']:\n",
    "    print(oras)"
   ]
  },
  {
   "cell_type": "markdown",
   "metadata": {},
   "source": [
    "## Functii predefinite pentru liste\n",
    "Structurile de date de tip lista beneficiaza de o serie de functii predefinite care permit, printre altele,\n",
    "determinarea numarului de elemente de la nivelul listei, a valorii maxime sau minime de la nivelul elementelor listei,\n",
    "a sumei elementelor listei."
   ]
  },
  {
   "cell_type": "code",
   "execution_count": null,
   "metadata": {
    "pycharm": {
     "name": "#%%\n"
    }
   },
   "outputs": [],
   "source": [
    "numere = [10, 4, 7, 5, 34, 6, 78]\n",
    "len(numere)"
   ]
  },
  {
   "cell_type": "code",
   "execution_count": null,
   "metadata": {
    "pycharm": {
     "name": "#%%\n"
    }
   },
   "outputs": [],
   "source": [
    "max(numere)\n",
    "min(numere)\n",
    "sum(numere)"
   ]
  },
  {
   "cell_type": "markdown",
   "metadata": {},
   "source": [
    "Functia sorted returneaza o noua lista care contine elementele listei primite ca argument ordonate crescator."
   ]
  },
  {
   "cell_type": "code",
   "execution_count": null,
   "metadata": {
    "pycharm": {
     "name": "#%%\n"
    }
   },
   "outputs": [],
   "source": [
    "sorted([10, 4, 7, 5, 34, 6, 78])"
   ]
  },
  {
   "cell_type": "markdown",
   "metadata": {},
   "source": [
    "Functiile any() si all() returneaza True daca cel putin un element de la nivelul listei are valoarea True, sau daca\n",
    "toate elementele de la nivelul listei se evalueaza la True."
   ]
  },
  {
   "cell_type": "code",
   "execution_count": null,
   "metadata": {
    "pycharm": {
     "name": "#%%\n"
    }
   },
   "outputs": [],
   "source": [
    "any([0, False, 0.0, ''])"
   ]
  },
  {
   "cell_type": "code",
   "execution_count": null,
   "metadata": {
    "pycharm": {
     "name": "#%%\n"
    }
   },
   "outputs": [],
   "source": [
    "all([0, 1, 2, 3, 4])"
   ]
  },
  {
   "cell_type": "markdown",
   "metadata": {},
   "source": [
    "## Python List Comprehension\n",
    "\n",
    "Termenul list comprehension se refera la crearea unei liste noi dintr-o lista existenta pe baza unei expresii urmate de\n",
    "una sau mai multe instructiuni for si/sau if.\n",
    "\n",
    "Daca se doreste crearea unei liste care contine toate orasele care incep cu litere din prima parte a alfabetului, putem\n",
    "avea in vedere urmatorul script."
   ]
  },
  {
   "cell_type": "code",
   "execution_count": null,
   "metadata": {
    "pycharm": {
     "name": "#%%\n"
    }
   },
   "outputs": [],
   "source": [
    "orase = ['Timisoara', 'Amsterdam', 'Paris', 'Caransebes', 'Cluj-Napoca', 'Iasi']\n",
    "orase_new = []\n",
    "for oras in orase:\n",
    "    if oras[0] < 'M':\n",
    "        orase_new.append(oras)\n",
    "print(orase_new)"
   ]
  },
  {
   "cell_type": "markdown",
   "metadata": {},
   "source": [
    "Secventa de cod precedenta poate fi rescrisa folosind list comprehension, astfel:"
   ]
  },
  {
   "cell_type": "code",
   "execution_count": null,
   "metadata": {
    "pycharm": {
     "name": "#%%\n"
    }
   },
   "outputs": [],
   "source": [
    "orase_new = [oras for oras in orase if oras[0] < 'M']\n",
    "print(orase_new)"
   ]
  },
  {
   "cell_type": "code",
   "execution_count": null,
   "metadata": {
    "pycharm": {
     "name": "#%%\n"
    }
   },
   "outputs": [],
   "source": [
    "numere = [10, 4, 7, 5, 34, 6, 78]\n",
    "numere_pare = [elem for elem in numere if elem%2 == 0]\n",
    "numere_pare"
   ]
  },
  {
   "cell_type": "code",
   "execution_count": null,
   "metadata": {
    "pycharm": {
     "name": "#%%\n"
    }
   },
   "outputs": [],
   "source": [
    "numere2 = [(elem, elem**2) for elem in numere if elem%2 == 0]\n",
    "numere2"
   ]
  },
  {
   "cell_type": "markdown",
   "metadata": {},
   "source": [
    "## 02 - Tupluri in Python\n",
    "\n",
    "In limbajul Python, tuplurile sunt structuri de date similare listelor, dar care nu beneficiaza de caracterul mutabil\n",
    "al acestora. Prin urmare, elementele unui tuplu nu pot fi modificate. Declararea tuplurilor se realizeaza prin\n",
    "intermediul parantezelor rotunde, cum poate fi observat si in exemplul urmator."
   ]
  },
  {
   "cell_type": "code",
   "execution_count": null,
   "metadata": {
    "pycharm": {
     "name": "#%%\n"
    }
   },
   "outputs": [],
   "source": [
    "zile = ('luni', 'marti', 'miercuri', 'joi', 'vineri', 'sambata', 'duminica')\n",
    "type(zile)"
   ]
  },
  {
   "cell_type": "code",
   "execution_count": null,
   "metadata": {
    "pycharm": {
     "name": "#%%\n"
    }
   },
   "outputs": [],
   "source": [
    "zile[0] = 'Monday'"
   ]
  },
  {
   "cell_type": "markdown",
   "metadata": {},
   "source": [
    "Si tuplurile fac parte din categoria datelor de tip secventa, alaturi de liste si siruri, preluand caracteristicile\n",
    "acestora (indexarea elementelor, concatenarea, multiplicarea cu valori numerice si felierea.\n",
    "\n",
    "Elementele unui tuplu sunt indexate numeric, primul element avand indexul 0. Elementele de la nivelul unui tuplu pot\n",
    "avea orice tip de date, existand chiar posibilitatea imbricarii tuplurilor."
   ]
  },
  {
   "cell_type": "code",
   "execution_count": null,
   "metadata": {
    "pycharm": {
     "name": "#%%\n"
    }
   },
   "outputs": [],
   "source": [
    "impar = (1, 3, 5, 7, 9, 11)\n",
    "par = (2, 4, 6, 8, 10, 12)\n",
    "numere = (par, impar)\n",
    "numere[0]"
   ]
  },
  {
   "cell_type": "code",
   "execution_count": null,
   "metadata": {
    "pycharm": {
     "name": "#%%\n"
    }
   },
   "outputs": [],
   "source": [
    "numere[0][1]"
   ]
  },
  {
   "cell_type": "markdown",
   "metadata": {},
   "source": [
    "Operatia de concatenare a doua tupluri presupune plasarea elementelor acestora la nivelul unui tuplu rezultat. In mod\n",
    "similar listelor, prin intermediul operatiei de multiplicare a unui tuplu cu valori numerice se obtine un nou tuplu,\n",
    "care cuprinde continutul tuplului initial repetat de un numar de ori egal cu valoare numerica cu care a fost\n",
    "multiplicat tuplul initial."
   ]
  },
  {
   "cell_type": "code",
   "execution_count": null,
   "metadata": {
    "pycharm": {
     "name": "#%%\n"
    }
   },
   "outputs": [],
   "source": [
    "impar + par"
   ]
  },
  {
   "cell_type": "code",
   "execution_count": null,
   "metadata": {
    "pycharm": {
     "name": "#%%\n"
    }
   },
   "outputs": [],
   "source": [
    "par * 2"
   ]
  },
  {
   "cell_type": "markdown",
   "metadata": {},
   "source": [
    "De asemenea, exista posibilitatea verificarii unei valori printre elementele unui tuplu prin intermediul operatorului\n",
    "de verificare a apartenentei."
   ]
  },
  {
   "cell_type": "code",
   "execution_count": null,
   "metadata": {
    "pycharm": {
     "name": "#%%\n"
    }
   },
   "outputs": [],
   "source": [
    "'vineri' in zile"
   ]
  },
  {
   "cell_type": "code",
   "execution_count": null,
   "metadata": {
    "pycharm": {
     "name": "#%%\n"
    }
   },
   "outputs": [],
   "source": [
    "'monday' in zile"
   ]
  },
  {
   "cell_type": "markdown",
   "metadata": {},
   "source": [
    "## 03 - Dictionare in Python\n",
    "\n",
    "In limbajul Python, dictionarele reprezinta structuri de date care stocheaza perechi de tipul cheie-valoare, unde cheile\n",
    " sunt unice. Declararea dictionarelor se realizeaza prin intermediul acoladelor. Elementele unui dictionar pot fi\n",
    " modificate, motiv pentru care spunem ca dictionarele sunt structuri de date de tip mutabil."
   ]
  },
  {
   "cell_type": "code",
   "execution_count": null,
   "metadata": {
    "pycharm": {
     "name": "#%%\n"
    }
   },
   "outputs": [],
   "source": [
    "orase = {1: 'Timisoara', 2: 'Londra', 3: 'Budapesta', 4: 'New York'}\n",
    "orase[2] = 'Sofia'\n",
    "orase"
   ]
  },
  {
   "cell_type": "markdown",
   "metadata": {},
   "source": [
    "Un dictionar poate include elemente ale caror valori sunt tot structuri de tip dictionar. Cheile de la nivelul unui\n",
    "dictionar nu pot fi definite insa decat prin intermediul tipurilor de date de tip imutabil, precum sirurile de\n",
    "caractere, valorile numerice sau tuplurile."
   ]
  },
  {
   "cell_type": "code",
   "execution_count": null,
   "metadata": {
    "pycharm": {
     "name": "#%%\n"
    }
   },
   "outputs": [],
   "source": [
    "orase_ro = {1: 'Timisoara', 2: 'Bucuresti', 3: 'Iasi'}\n",
    "orase_uk = {1: 'Londra', 2: 'Glasgow', 3: 'Liverpool'}\n",
    "orase = {'ro': orase_ro, 'uk': orase_uk}\n",
    "orase"
   ]
  },
  {
   "cell_type": "code",
   "execution_count": null,
   "metadata": {
    "pycharm": {
     "name": "#%%\n"
    }
   },
   "outputs": [],
   "source": [
    "orase['ro'][1]"
   ]
  },
  {
   "cell_type": "code",
   "execution_count": null,
   "metadata": {
    "pycharm": {
     "name": "#%%\n"
    }
   },
   "outputs": [],
   "source": [
    "dictionar = {1: 'A', (1, 2): 1, 3.14: {1: 1, 2: 2}, 'C': (1, 3)}\n",
    "dictionar"
   ]
  },
  {
   "cell_type": "markdown",
   "metadata": {},
   "source": [
    "Putem verifica daca o cheie, o valoare sau o pereche de tip cheie-valoare sunt sau nu prezente printre cheile, valorile\n",
    " sau perechile de tip cheie-valoare ale unui dictionar folosind operatorii in, respectiv not in."
   ]
  },
  {
   "cell_type": "code",
   "execution_count": null,
   "metadata": {
    "pycharm": {
     "name": "#%%\n"
    }
   },
   "outputs": [],
   "source": [
    "orase = {1: 'Timisoara', 2: 'Londra', 3: 'Budapesta', 4: 'New York'}\n",
    "orase"
   ]
  },
  {
   "cell_type": "code",
   "execution_count": null,
   "metadata": {
    "pycharm": {
     "name": "#%%\n"
    }
   },
   "outputs": [],
   "source": [
    "1 in orase"
   ]
  },
  {
   "cell_type": "code",
   "execution_count": null,
   "metadata": {
    "pycharm": {
     "name": "#%%\n"
    }
   },
   "outputs": [],
   "source": [
    "1 in orase.keys()"
   ]
  },
  {
   "cell_type": "code",
   "execution_count": null,
   "metadata": {
    "pycharm": {
     "name": "#%%\n"
    }
   },
   "outputs": [],
   "source": [
    "'Timisoara' in orase.values()"
   ]
  },
  {
   "cell_type": "code",
   "execution_count": null,
   "metadata": {
    "pycharm": {
     "name": "#%%\n"
    }
   },
   "outputs": [],
   "source": [
    "(2, 'Londra') in orase.items()"
   ]
  }
 ],
 "metadata": {
  "kernelspec": {
   "display_name": "Python 3 (ipykernel)",
   "language": "python",
   "name": "python3"
  },
  "language_info": {
   "codemirror_mode": {
    "name": "ipython",
    "version": 3
   },
   "file_extension": ".py",
   "mimetype": "text/x-python",
   "name": "python",
   "nbconvert_exporter": "python",
   "pygments_lexer": "ipython3",
   "version": "3.8.10"
  }
 },
 "nbformat": 4,
 "nbformat_minor": 1
}